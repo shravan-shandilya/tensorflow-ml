{
 "cells": [
  {
   "cell_type": "markdown",
   "metadata": {
    "deletable": true,
    "editable": true
   },
   "source": [
    "## My first TensorFlow program \n",
    "The objective of this program is to understand its tensorflow's computational graph,runtime and other concepts.\n",
    "* Tensorflow is made of tensors and computational graph.\n",
    "* Tensors are typed multi dimemsional arrays.\n",
    "* Computational graph is made of nodes and edges.It determines what a program does in runtime.\n",
    "* Nodes represent operation to be performed and edges represent the interface thorugh which a node obtains or produces the data.\n",
    "\n",
    "The idea is to combine different operations(represented by nodes) in a some fashion(via edges) to achive the desired results.\n",
    "\n",
    "### As a simple exercise, I'm trying to model a simple stright line to fit randomly generated dataset."
   ]
  },
  {
   "cell_type": "code",
   "execution_count": 42,
   "metadata": {
    "collapsed": false,
    "deletable": true,
    "editable": true
   },
   "outputs": [],
   "source": [
    "import tensorflow as tf\n",
    "import numpy as np\n",
    "import matplotlib.pyplot as plt\n",
    "import random\n",
    "import operator\n",
    "\n",
    "%matplotlib inline"
   ]
  },
  {
   "cell_type": "markdown",
   "metadata": {
    "deletable": true,
    "editable": true
   },
   "source": [
    "### Placeholders, Variables and Constants\n",
    "Tensorflow uses three different ways to store data.\n",
    "* Constants\n",
    "    * Their value is fixed and coupled with a datatype\n",
    "    * Ex:\n",
    "    ```\n",
    "    constant1 = tf.constant(2.0,dtype=tf.float32,name=\"constant1\")\n",
    "    constant2 = tf.constant([2. 3. 5.],dtype=tf.float32,name=\"constant2\")\n",
    "    ```\n",
    "* Placeholders\n",
    "    * Used to feed actual training examples\n",
    "    * Can be fed at runtime\n",
    "    * Ex:\n",
    "    ```\n",
    "    images_placeholder = tf.placeholder(tf.float32, shape=(batch_size, IMAGE_PIXELS),name=\"input\")\n",
    "    ```\n",
    "* Variables\n",
    "    * Used for trainable data such as weights/parameters and bias.\n",
    "    * Should be initialised (usually intialised randomly)\n",
    "    * Ex:\n",
    "    ```\n",
    "    biases = tf.Variable(tf.zeros([hidden1_units]), name='biases')\n",
    "    ```\n",
    "\n",
    "### Data\n",
    "I'm building a simple linear model which will be able to predict the output based on input with minimum error.\n",
    "It is basically a mapping between different 'x' values to 'Y' values."
   ]
  },
  {
   "cell_type": "code",
   "execution_count": 64,
   "metadata": {
    "collapsed": false,
    "deletable": true,
    "editable": true
   },
   "outputs": [
    {
     "data": {
      "text/plain": [
       "<matplotlib.text.Text at 0x10de18c90>"
      ]
     },
     "execution_count": 64,
     "metadata": {},
     "output_type": "execute_result"
    },
    {
     "data": {
      "image/png": "[encoded data removed]",
      "text/plain": [
       "<matplotlib.figure.Figure at 0x10cc26a10>"
      ]
     },
     "metadata": {},
     "output_type": "display_data"
    }
   ],
   "source": [
    "ops = {\"+\":operator.add,\"-\":operator.sub}\n",
    "train_x = np.arange(100)\n",
    "noise = np.random.uniform(-50,50, size=(100,))\n",
    "train_Y = ops[random.choice(\"+-\")](ops[random.choice(\"+-\")](random.randint(-10,10) * train_x , random.randint(-10,10)),noise)\n",
    "plt.scatter(train_x,train_Y)\n",
    "plt.xlabel(\"Train x\")\n",
    "plt.ylabel(\"Train Y\")"
   ]
  },
  {
   "cell_type": "markdown",
   "metadata": {
    "deletable": true,
    "editable": true
   },
   "source": [
    "By observing the pattern we can see that a stright line could be the best model to fit this data.(Or we can call it cheating,since we generated 'Y' as a linear combination of 'x' and some other things)\n",
    "\n",
    "My model is Y = mx + c or as Y = Wx + b\n",
    "W -> the weights\n",
    "b -> the bias\n",
    "\n",
    "W and b: They are the trainable varibles, so they are declared as tensorflow variables.\n",
    "x and Y: They are the data input to the system,so they are placeholders"
   ]
  },
  {
   "cell_type": "code",
   "execution_count": 56,
   "metadata": {
    "collapsed": false,
    "deletable": true,
    "editable": true
   },
   "outputs": [],
   "source": [
    "W = tf.Variable(6.5, dtype=tf.float32,name=\"weight\")\n",
    "b = tf.Variable(0.03, dtype=tf.float32,name=\"bias\")\n",
    "\n",
    "x = tf.placeholder(tf.float32,name=\"x\")\n",
    "Y = tf.placeholder(tf.float32,name=\"Y\")"
   ]
  },
  {
   "cell_type": "code",
   "execution_count": 57,
   "metadata": {
    "collapsed": true,
    "deletable": true,
    "editable": true
   },
   "outputs": [],
   "source": [
    "prediction = W*x + b\n",
    "error = prediction - Y\n",
    "cost = tf.reduce_mean(tf.square(error))/(2*100)"
   ]
  },
  {
   "cell_type": "markdown",
   "metadata": {
    "deletable": true,
    "editable": true
   },
   "source": [
    "Fitting the model to a striaght is a process of finding the values of 'W' and 'b', which gives the least possible cost.\n",
    "I'm using gradient descent for optimisation.\n",
    "Tensorflow has inbuilt construct called 'GradientDescentOptimiser'.\n",
    "I just have to tell the optimiser which variable to minimize, which is in our case 'cost'.\n",
    "\n",
    "Using 0.01 as the learning rate, the step size to be taken while descending."
   ]
  },
  {
   "cell_type": "code",
   "execution_count": 58,
   "metadata": {
    "collapsed": false,
    "deletable": true,
    "editable": true
   },
   "outputs": [],
   "source": [
    "optimizer = tf.train.GradientDescentOptimizer(0.001).minimize(cost)"
   ]
  },
  {
   "cell_type": "markdown",
   "metadata": {
    "deletable": true,
    "editable": true
   },
   "source": [
    "### Little intro to Tensorflow's runtime.\n",
    "We have defined our computational graphs using prediction,error and cost.Now its time to pass this graph to Tensorflow's runtime. The runtime can be different on different machines based on host machine's capability.\n",
    "This feature provides the modularity and portability for tensorflow.\n",
    "\n",
    "We interact with Tensorflow using a session. All varibles are initialized by 'global_variable_initializer'"
   ]
  },
  {
   "cell_type": "code",
   "execution_count": 59,
   "metadata": {
    "collapsed": false,
    "deletable": true,
    "editable": true
   },
   "outputs": [],
   "source": [
    "session = tf.Session()\n",
    "init = tf.global_variables_initializer()\n",
    "session.run(init)"
   ]
  },
  {
   "cell_type": "markdown",
   "metadata": {
    "deletable": true,
    "editable": true
   },
   "source": [
    "To train, we just need to run optimiser in the session repeatedly. The tensorflow knows to alter the values of Tensorflow Variables(in our case W and b) to minimize the cost"
   ]
  },
  {
   "cell_type": "code",
   "execution_count": 60,
   "metadata": {
    "collapsed": false,
    "deletable": true,
    "editable": true
   },
   "outputs": [],
   "source": [
    "for i in range(100):\n",
    "    session.run(optimizer,feed_dict={x:train_x,Y:train_Y})"
   ]
  },
  {
   "cell_type": "code",
   "execution_count": 61,
   "metadata": {
    "collapsed": false,
    "deletable": true,
    "editable": true
   },
   "outputs": [
    {
     "data": {
      "text/plain": [
       "<matplotlib.legend.Legend at 0x10db14c10>"
      ]
     },
     "execution_count": 61,
     "metadata": {},
     "output_type": "execute_result"
    },
    {
     "data": {
      "image/png": "[encoded data removed]",
      "text/plain": [
       "<matplotlib.figure.Figure at 0x10dad7c90>"
      ]
     },
     "metadata": {},
     "output_type": "display_data"
    }
   ],
   "source": [
    "plt.scatter(train_x, train_Y, label='Original data')\n",
    "plt.plot(train_x, session.run(W)*train_x + session.run(b),'ro', label='Fitted line')\n",
    "plt.legend()"
   ]
  },
  {
   "cell_type": "code",
   "execution_count": null,
   "metadata": {
    "collapsed": true
   },
   "outputs": [],
   "source": []
  },
  {
   "cell_type": "code",
   "execution_count": null,
   "metadata": {
    "collapsed": true
   },
   "outputs": [],
   "source": []
  }
 ],
 "metadata": {
  "kernelspec": {
   "display_name": "Python 2",
   "language": "python",
   "name": "python2"
  },
  "language_info": {
   "codemirror_mode": {
    "name": "ipython",
    "version": 2
   },
   "file_extension": ".py",
   "mimetype": "text/x-python",
   "name": "python",
   "nbconvert_exporter": "python",
   "pygments_lexer": "ipython2",
   "version": "2.7.13"
  }
 },
 "nbformat": 4,
 "nbformat_minor": 2
}
